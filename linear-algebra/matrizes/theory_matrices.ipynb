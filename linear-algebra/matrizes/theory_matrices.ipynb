{
 "cells": [
  {
   "cell_type": "markdown",
   "metadata": {},
   "source": [
    "# Matrizes"
   ]
  },
  {
   "cell_type": "markdown",
   "metadata": {},
   "source": [
    "### Representação de Matrizes\n",
    "\n",
    "Sejam duas matrizes \\( A \\) e \\( B \\):\n",
    "\n",
    "$$\n",
    "A = \\begin{bmatrix}\n",
    "a_{11} & a_{12} & \\dots & a_{1n} \\\\\n",
    "a_{21} & a_{22} & \\dots & a_{2n} \\\\\n",
    "\\vdots & \\vdots & \\ddots & \\vdots \\\\\n",
    "a_{m1} & a_{m2} & \\dots & a_{mn}\n",
    "\\end{bmatrix},\n",
    "\\quad\n",
    "B = \\begin{bmatrix}\n",
    "b_{11} & b_{12} & \\dots & b_{1n} \\\\\n",
    "b_{21} & b_{22} & \\dots & b_{2n} \\\\\n",
    "\\vdots & \\vdots & \\ddots & \\vdots \\\\\n",
    "b_{m1} & b_{m2} & \\dots & b_{mn}\n",
    "\\end{bmatrix}\n",
    "$$\n"
   ]
  },
  {
   "cell_type": "markdown",
   "metadata": {},
   "source": [
    "### Operações Básicas\n",
    "\n",
    "#### 1. Soma de Matrizes\n",
    "A soma de duas matrizes \\( A \\) e \\( B \\) (de mesma dimensão) é realizada elemento a elemento:\n",
    "\n",
    "$$\n",
    "C = A + B \\quad \\Rightarrow \\quad c_{ij} = a_{ij} + b_{ij}\n",
    "$$\n",
    "\n",
    "**Exemplo**:\n",
    "\n",
    "$$\n",
    "A = \\begin{bmatrix} 1 & 2 \\\\ 3 & 4 \\end{bmatrix}, \\quad\n",
    "B = \\begin{bmatrix} 5 & 6 \\\\ 7 & 8 \\end{bmatrix}\n",
    "$$\n",
    "\n",
    "$$\n",
    "C = A + B = \\begin{bmatrix} 1+5 & 2+6 \\\\ 3+7 & 4+8 \\end{bmatrix} = \\begin{bmatrix} 6 & 8 \\\\ 10 & 12 \\end{bmatrix}\n",
    "$$\n"
   ]
  },
  {
   "cell_type": "markdown",
   "metadata": {},
   "source": [
    "#### 2. Subtração de Matrizes\n",
    "\n",
    "A subtração é análoga à soma, realizada elemento a elemento:\n",
    "\n",
    "$$\n",
    "C = A - B \\quad \\Rightarrow \\quad c_{ij} = a_{ij} - b_{ij}\n",
    "$$\n",
    "\n",
    "**Exemplo**:\n",
    "\n",
    "$$\n",
    "A = \\begin{bmatrix} 1 & 2 \\\\ 3 & 4 \\end{bmatrix}, \\quad\n",
    "B = \\begin{bmatrix} 5 & 6 \\\\ 7 & 8 \\end{bmatrix}\n",
    "$$\n",
    "\n",
    "$$\n",
    "C = A - B = \\begin{bmatrix} 1-5 & 2-6 \\\\ 3-7 & 4-8 \\end{bmatrix} = \\begin{bmatrix} -4 & -4 \\\\ -4 & -4 \\end{bmatrix}\n",
    "$$\n"
   ]
  },
  {
   "cell_type": "markdown",
   "metadata": {},
   "source": [
    "#### 3. Multiplicação de Matrizes\n",
    "\n",
    "$$A_{m_{x}n}.B_{n_{x}p} = C_{m_{x}p}$$"
   ]
  },
  {
   "cell_type": "markdown",
   "metadata": {},
   "source": [
    "#### 4. Multiplicação de uma Matriz por um Escalar"
   ]
  },
  {
   "cell_type": "markdown",
   "metadata": {},
   "source": [
    "$$x_{escalar}.\\begin{bmatrix}\n",
    "                      a_{11} & a_{12} & ... & a_{1n} \\\\\n",
    "                      a_{21} & a_{22} & ... & a_{2n} \\\\\n",
    "                      :      & :      & ... & :      \\\\\n",
    "                      a_{m1} & a_{m2} & ... & a_{mn} \\\\\n",
    "                      \\end{bmatrix}_{m_{x}n} = \n",
    "                      \\begin{bmatrix}\n",
    "                              x.a_{11} & x.a_{12} & ... & x.a_{1n} \\\\\n",
    "                              x.a_{21} & x.a_{22} & ... & x.a_{2n} \\\\\n",
    "                              :        & :        & ... & :        \\\\\n",
    "                              x.a_{m1} & x.a_{m2} & ... & x.a_{mn} \\\\\n",
    "                              \\end{bmatrix}_{m_{x}n}$$"
   ]
  },
  {
   "cell_type": "code",
   "execution_count": 1,
   "metadata": {},
   "outputs": [],
   "source": [
    "import numpy as np"
   ]
  },
  {
   "cell_type": "code",
   "execution_count": 6,
   "metadata": {},
   "outputs": [],
   "source": [
    "def soma(matrizA, linhaA, colunaA, matrizB, linhaB, colunaB):\n",
    "    if(linhaA != linhaB or colunaA != colunaB):\n",
    "        return \"Operação com matrizes de tamanhos incompatíveis. Tente novamente.\"\n",
    "    \n",
    "    soma = matrizA + matrizB\n",
    "\n",
    "    return soma"
   ]
  },
  {
   "cell_type": "code",
   "execution_count": 9,
   "metadata": {},
   "outputs": [],
   "source": [
    "def subtracao(matrizA, linhaA, colunaA, matrizB, linhaB, colunaB):\n",
    "    if(linhaA != linhaB or colunaA != colunaB):\n",
    "        return \"Operação com matrizes de tamanhos incompatíveis. Tente novamente.\"\n",
    "    \n",
    "    print(\"1) A - B\\n2) B - A\")\n",
    "\n",
    "    while True:\n",
    "        opcao = int(input(\"Informe sua opção: \"))\n",
    "        if(opcao == 1 or opcao == 2):\n",
    "            break\n",
    "        else:\n",
    "            print(\"Operação inválida, tente novamente\\n\")\n",
    "\n",
    "    if(opcao == 1): \n",
    "        sub = matrizA - matrizB\n",
    "        return sub\n",
    "    elif(opcao == 2):\n",
    "        sub = matrizB - matrizA\n",
    "        return sub"
   ]
  },
  {
   "cell_type": "code",
   "execution_count": 10,
   "metadata": {},
   "outputs": [],
   "source": [
    "def multiplicacao(matrizA, linhaA, colunaA, matrizB, linhaB, colunaB):\n",
    "    \n",
    "    print(\"1) A x B\\n2) B x A\")\n",
    "    \n",
    "    while True:\n",
    "        opcao = int(input(\"Informe sua opção: \"))\n",
    "        if(opcao == 1 or opcao == 2):\n",
    "            break\n",
    "        else:\n",
    "            print(\"Operação inválida, tente novamente\\n\")\n",
    "    \n",
    "    \n",
    "    if(opcao == 1):\n",
    "        if(colunaA != linhaB):\n",
    "            return \"Operação com matrizes de tamanhos incompatíveis. Tente novamente.\"\n",
    "    elif(opcao == 2):\n",
    "        if(colunaB != linhaA):\n",
    "            return \"Operação com matrizes de tamanhos incompatíveis. Tente novamente.\"\n",
    "\n",
    "\n",
    "    if(opcao == 1):\n",
    "        mult = np.dot(matrizA, matrizB)\n",
    "        return mult\n",
    "    elif(opcao == 2):\n",
    "        mult = np.dot(matrizB,matrizA)\n",
    "        return mult"
   ]
  },
  {
   "cell_type": "code",
   "execution_count": 11,
   "metadata": {},
   "outputs": [],
   "source": [
    "def multiplicaEscalar(matrizA, matrizB, escalar):\n",
    "    \n",
    "    print(\"Qual matriz você quer multiplicar pelo escalar?\")\n",
    "    print(\"1) matriz A\")\n",
    "    print(\"2) matriz B\")\n",
    "    \n",
    "    \n",
    "    while True:\n",
    "        opcao = int(input(\"Informe sua opção: \"))\n",
    "        if(opcao == 1 or opcao == 2):\n",
    "            break\n",
    "        else:\n",
    "            print(\"Opção inválida, digite novamente.\\n\")\n",
    "          \n",
    "    if(opcao == 1):\n",
    "        novaMatriz = escalar * matrizA\n",
    "        return novaMatriz\n",
    "    elif(opcao == 2):\n",
    "        novaMatriz = escalar * matrizB\n",
    "        return novaMatriz"
   ]
  },
  {
   "cell_type": "code",
   "execution_count": 3,
   "metadata": {},
   "outputs": [],
   "source": [
    "def main():\n",
    "\n",
    "    while True:\n",
    "\n",
    "        print(\"\\nEscolha uma das opções de operações com matrizes abaixo:\")\n",
    "        print(\"   1 - Soma entre duas matrizes.\")\n",
    "        print(\"   2 - Subtração entre duas matrizes.\")\n",
    "        print(\"   3 - Multiplicação entre duas matrizes.\")\n",
    "        print(\"   4 - Multiplicação de uma matriz por um escalar.\")\n",
    "        print(\"   5 - Sair do progama\")\n",
    "\n",
    "        while True:\n",
    "            opcao = int(input(\"Insira uma opção abaixo: \"))\n",
    "            if opcao >= 1 and opcao <=5:\n",
    "                break\n",
    "            else:\n",
    "                print(\"Entrada errada. Digite novamente.\\n\")\n",
    "\n",
    "\n",
    "        if(opcao == 5):\n",
    "            break \n",
    "\n",
    "        print(\"\\n\")\n",
    "\n",
    "        linhaA = int(input(\"Informe a quantidade de linhas da matriz A: \"))\n",
    "        colunaA = int(input(\"Informe a quantidade de colunas da matriz A: \"))\n",
    "        linhaB = int(input(\"Informe a quantidade de linhas da matriz B: \"))\n",
    "        colunaB = int(input(\"Informe a quantidade de colunas da matriz B: \"))\n",
    "\n",
    "        # inicializando as matrizes com suas devidas ordens e com lixo de memória\n",
    "        A = np.empty([linhaA, colunaA], dtype=float)\n",
    "        B = np.empty([linhaB, colunaB], dtype=float)\n",
    "\n",
    "        print(\"\\n\")\n",
    "\n",
    "        for i in range(0, linhaA):\n",
    "            for j in range(0, colunaA):\n",
    "                A[i][j] = float(input(f\"Digite o elemento [{i+1}][{j+1}] da matriz A: \")) \n",
    "\n",
    "        print(\"\\n\")\n",
    "\n",
    "        for i in range(0, linhaB):\n",
    "            for j in range(0, colunaB):\n",
    "                B[i][j] = float(input(f'Digiteno elemento [{i+1}][{j+1}] da matriz B'))\n",
    "\n",
    "        print(\"\\n\")\n",
    "\n",
    "        print(f'A matriz A é {A} e a matriz B é {B}')\n",
    "\n",
    "        if(opcao == 4):\n",
    "            escalar = float(input(\"\\nInforme um escalar: \"))\n",
    "\n",
    "        print(\"\\n\")\n",
    "\n",
    "        "
   ]
  },
  {
   "cell_type": "code",
   "execution_count": null,
   "metadata": {},
   "outputs": [],
   "source": [
    "if __name__ == '__main__':\n",
    "    main()"
   ]
  }
 ],
 "metadata": {
  "kernelspec": {
   "display_name": "Python 3",
   "language": "python",
   "name": "python3"
  },
  "language_info": {
   "codemirror_mode": {
    "name": "ipython",
    "version": 3
   },
   "file_extension": ".py",
   "mimetype": "text/x-python",
   "name": "python",
   "nbconvert_exporter": "python",
   "pygments_lexer": "ipython3",
   "version": "3.13.1"
  }
 },
 "nbformat": 4,
 "nbformat_minor": 2
}
